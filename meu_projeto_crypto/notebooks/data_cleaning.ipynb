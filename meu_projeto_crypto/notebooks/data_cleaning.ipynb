{
 "cells": [
  {
   "cell_type": "code",
   "execution_count": 2,
   "metadata": {},
   "outputs": [],
   "source": [
    "import pandas as pd"
   ]
  },
  {
   "cell_type": "code",
   "execution_count": 3,
   "metadata": {},
   "outputs": [],
   "source": [
    "btc_data = pd.read_csv('../src/api/BTC-USD_historical_data.csv', index_col=0)\n",
    "eth_data = pd.read_csv('../src/api/ETH-USD_historical_data.csv', index_col=0)\n"
   ]
  },
  {
   "cell_type": "code",
   "execution_count": 4,
   "metadata": {},
   "outputs": [
    {
     "name": "stdout",
     "output_type": "stream",
     "text": [
      "                   Open         High          Low        Close    Adj Close  \\\n",
      "Date                                                                          \n",
      "2020-01-01  7194.892090  7254.330566  7174.944336  7200.174316  7200.174316   \n",
      "2020-01-02  7202.551270  7212.155273  6935.270020  6985.470215  6985.470215   \n",
      "2020-01-03  6984.428711  7413.715332  6914.996094  7344.884277  7344.884277   \n",
      "2020-01-04  7345.375488  7427.385742  7309.514160  7410.656738  7410.656738   \n",
      "2020-01-05  7410.451660  7544.497070  7400.535645  7411.317383  7411.317383   \n",
      "\n",
      "                 Volume  \n",
      "Date                     \n",
      "2020-01-01  18565664997  \n",
      "2020-01-02  20802083465  \n",
      "2020-01-03  28111481032  \n",
      "2020-01-04  18444271275  \n",
      "2020-01-05  19725074095  \n",
      "                  Open        High         Low       Close   Adj Close  \\\n",
      "Date                                                                     \n",
      "2020-01-01  129.630661  132.835358  129.198288  130.802002  130.802002   \n",
      "2020-01-02  130.820038  130.820038  126.954910  127.410179  127.410179   \n",
      "2020-01-03  127.411263  134.554016  126.490021  134.171707  134.171707   \n",
      "2020-01-04  134.168518  136.052719  133.040558  135.069366  135.069366   \n",
      "2020-01-05  135.072098  139.410202  135.045624  136.276779  136.276779   \n",
      "\n",
      "                 Volume  \n",
      "Date                     \n",
      "2020-01-01   7935230330  \n",
      "2020-01-02   8032709256  \n",
      "2020-01-03  10476845358  \n",
      "2020-01-04   7430904515  \n",
      "2020-01-05   7526675353  \n"
     ]
    }
   ],
   "source": [
    "print(btc_data.head())\n",
    "print(eth_data.head())"
   ]
  },
  {
   "cell_type": "code",
   "execution_count": 5,
   "metadata": {},
   "outputs": [],
   "source": [
    "btc_data = btc_data.dropna()\n",
    "eth_data = eth_data.dropna()"
   ]
  },
  {
   "cell_type": "code",
   "execution_count": 6,
   "metadata": {},
   "outputs": [],
   "source": [
    "Q1 = btc_data.quantile(0.25)\n",
    "Q3 = btc_data.quantile(0.75)\n",
    "IQR = Q3 - Q1\n",
    "\n",
    "btc_data = btc_data[~((btc_data < (Q1 - 1.5 * IQR)) | (btc_data > (Q3 + 1.5 * IQR))).any(axis=1)]\n",
    "eth_data = eth_data[~((eth_data < (Q1 - 1.5 * IQR)) | (eth_data > (Q3 + 1.5 * IQR))).any(axis=1)]"
   ]
  },
  {
   "cell_type": "code",
   "execution_count": 7,
   "metadata": {},
   "outputs": [],
   "source": [
    "btc_data.to_csv('../src/api/BTC-USD_historical_data_cleaned.csv')\n",
    "eth_data.to_csv('../src/api/ETH-USD_historical_data_cleaned.csv')\n"
   ]
  },
  {
   "cell_type": "code",
   "execution_count": null,
   "metadata": {},
   "outputs": [],
   "source": []
  }
 ],
 "metadata": {
  "kernelspec": {
   "display_name": "Python 3 (ipykernel)",
   "language": "python",
   "name": "python3"
  },
  "language_info": {
   "codemirror_mode": {
    "name": "ipython",
    "version": 3
   },
   "file_extension": ".py",
   "mimetype": "text/x-python",
   "name": "python",
   "nbconvert_exporter": "python",
   "pygments_lexer": "ipython3",
   "version": "3.12.4"
  }
 },
 "nbformat": 4,
 "nbformat_minor": 4
}
